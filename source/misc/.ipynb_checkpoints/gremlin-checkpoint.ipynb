{
 "cells": [
  {
   "cell_type": "markdown",
   "id": "rising-lucas",
   "metadata": {},
   "source": [
    "# Gremlin\n",
    "\n",
    "Gremlin is a method for contact prediction using evolutionary covariation. I use the C++ version.\n",
    "\n",
    "## Installation\n",
    "Clone the git repository of Gremlin C++ and compile the source code\n",
    "\n",
    "```\n",
    "git clone https://github.com/sokrypton/GREMLIN_CPP.git\n",
    "cd GREMLIN_CPP\n",
    "g++ -O3 -std=c++0x -o gremlin_cpp gremlin_cpp.cpp -fopenmp\n",
    "```\n",
    "\n",
    "## Running Gremlin\n",
    "Run the binary on a MSA\n",
    "\n",
    "```\n",
    "./gremlin_cpp -i <input_msa> -o <out_file>\n",
    "```\n",
    "\n",
    "## How to get the MSA\n",
    "For now I am using the same hhblits MSA that I used for everything else\n",
    "In the original paper they used the following parameters on the clustered uniprot (uniref?)\n",
    "\n",
    "```\n",
    "-nodiff -neffmax 20 -n 4 -maxfilt 100000\n",
    "\n",
    "```\n",
    "\n",
    "They later removed rows or columns with more than 25% gaps and sequences with more than 90% identity to another sequence in the MSA\n",
    "\n",
    "## Output\n",
    "The output is a space-separated file with the following structure\n",
    "\n",
    "- i is the 0-inexed position of the first residue and ii is the 1-indexed position together with its identity\n",
    "- j and jj are equivalent to i and ii respectively, but for the second residue\n",
    "- raw is the raw score\n",
    "- apc is the average product correlation corrected score\n",
    "\n",
    "The score that I need is the APC score. For convenience I save it as a numpy array."
   ]
  },
  {
   "cell_type": "code",
   "execution_count": 138,
   "id": "focal-channel",
   "metadata": {},
   "outputs": [
    {
     "name": "stdout",
     "output_type": "stream",
     "text": [
      "Output already existing. Skipping: P00552\n",
      "Output already existing. Skipping: P02829\n",
      "Output already existing. Skipping: P04147\n",
      "Output already existing. Skipping: P06654\n",
      "Output already existing. Skipping: P0CG48\n",
      "Output already existing. Skipping: P0CG63\n",
      "Output already existing. Skipping: P31016\n",
      "Output already existing. Skipping: P46937\n",
      "Output already existing. Skipping: P62593\n"
     ]
    }
   ],
   "source": [
    "import pandas as pd\n",
    "import os\n",
    "import joblib\n",
    "import numpy as np\n",
    "from Bio import SeqIO\n",
    "\n",
    "with open('../processing/gray2018/uniprot_id_list.txt') as handle:\n",
    "    for line in handle:\n",
    "        uniprot_id = line.rstrip()\n",
    "        gremlin_file = '../processing/gray2018/gremlin/'+uniprot_id+'.gremlin.ssv'\n",
    "        out_numpy_file = '../processing/gray2018/gremlin/'+uniprot_id+'.gremlin_apc.joblib.xz'\n",
    "        if not os.path.isfile(gremlin_file):\n",
    "            print('Missing file:', uniprot_id)\n",
    "            continue\n",
    "        if os.path.isfile(out_numpy_file):\n",
    "            print('Output already existing. Skipping:', uniprot_id)\n",
    "            continue\n",
    "        sequence = SeqIO.read('../processing/gray2018/uniprot_sequences/'+uniprot_id+'.fasta', 'fasta').seq\n",
    "        gremlin_df = pd.read_csv(gremlin_file, sep='\\s+')\n",
    "        gremlin_vec = np.zeros((len(sequence), len(sequence)))\n",
    "        gremlin_vec[:] = np.nan\n",
    "        for i,res_i in enumerate(sequence):\n",
    "            if i not in set(gremlin_df.i):\n",
    "                continue\n",
    "            for j in range(i+1, len(sequence)):\n",
    "                if j not in set(gremlin_df.j):\n",
    "                    continue\n",
    "                curr_df = gremlin_df[(gremlin_df.i == i) & (gremlin_df.j == j)].reset_index(drop=True)\n",
    "                assert len(curr_df) == 1\n",
    "                assert curr_df.at[0,'ii'] == res_i+str(i+1)\n",
    "                assert curr_df.at[0,'jj'] == sequence[j]+str(j+1)\n",
    "                gremlin_vec[i,j] = curr_df.at[0,'apc']\n",
    "                gremlin_vec[j,i] = curr_df.at[0,'apc']\n",
    "        joblib.dump(gremlin_vec, out_numpy_file)"
   ]
  },
  {
   "cell_type": "code",
   "execution_count": null,
   "id": "suited-surgery",
   "metadata": {},
   "outputs": [],
   "source": []
  }
 ],
 "metadata": {
  "kernelspec": {
   "display_name": "Python 3",
   "language": "python",
   "name": "python3"
  },
  "language_info": {
   "codemirror_mode": {
    "name": "ipython",
    "version": 3
   },
   "file_extension": ".py",
   "mimetype": "text/x-python",
   "name": "python",
   "nbconvert_exporter": "python",
   "pygments_lexer": "ipython3",
   "version": "3.9.2"
  }
 },
 "nbformat": 4,
 "nbformat_minor": 5
}
