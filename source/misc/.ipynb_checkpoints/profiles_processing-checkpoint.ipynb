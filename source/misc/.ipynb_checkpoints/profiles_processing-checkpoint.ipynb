{
 "cells": [
  {
   "cell_type": "markdown",
   "id": "nonprofit-slope",
   "metadata": {},
   "source": [
    "# Profiles processing\n",
    "\n",
    "In this notebook I process the profiles in numpy arrays that I obtained from the psiblast PSSMs. My aim is to extract useful features for the project."
   ]
  },
  {
   "cell_type": "code",
   "execution_count": 1,
   "id": "pretty-source",
   "metadata": {},
   "outputs": [],
   "source": [
    "import numpy as np\n",
    "import pandas as pd\n",
    "from scipy import stats\n",
    "\n",
    "input_list_file = '../processing/input_list.txt'"
   ]
  },
  {
   "cell_type": "markdown",
   "id": "dominican-thesaurus",
   "metadata": {},
   "source": [
    "Run this only if you want to process the swissprot profiles"
   ]
  },
  {
   "cell_type": "code",
   "execution_count": 8,
   "id": "pressed-oxygen",
   "metadata": {},
   "outputs": [],
   "source": [
    "profile_path = '../processing/psiblast_to_profiles/swissprot_db/profiles/'\n",
    "shannon_path = '../processing/profiles_processing/swissprot_db/shannon_10e-10_pseudocount/'"
   ]
  },
  {
   "cell_type": "markdown",
   "id": "developing-convention",
   "metadata": {},
   "source": [
    "Run this only if you want to process the nr profiles"
   ]
  },
  {
   "cell_type": "code",
   "execution_count": 2,
   "id": "associate-clinton",
   "metadata": {},
   "outputs": [],
   "source": [
    "profile_path = '../processing/psiblast_to_profiles/nr_db/profiles/'\n",
    "shannon_path = '../processing/profiles_processing/nr_db/shannon_10e-10_pseudocount/'"
   ]
  },
  {
   "cell_type": "markdown",
   "id": "united-officer",
   "metadata": {},
   "source": [
    "I can use the Shannon's entropy as a measure of absolute conservation for a position. For each profile, I create a vector of Shannon entropies (one per position). The entropy function automagically normalizes the vector, so no hassle for adding pseudocounts."
   ]
  },
  {
   "cell_type": "code",
   "execution_count": 3,
   "id": "persistent-sapphire",
   "metadata": {},
   "outputs": [],
   "source": [
    "def shannon_entropy(profile, pseudocount=1e-10):\n",
    "    return stats.entropy(profile + pseudocount, axis=1)\n",
    "\n",
    "with open(input_list_file) as handle:\n",
    "    for line in handle:\n",
    "        input_name = line.rstrip()\n",
    "        profile = np.load(profile_path + input_name + '.profile.npy')\n",
    "        entropy_array = shannon_entropy(profile).reshape(-1, 1)\n",
    "        np.save(shannon_path + input_name + '.shannon.npy', entropy_array)"
   ]
  },
  {
   "cell_type": "markdown",
   "id": "labeled-nevada",
   "metadata": {},
   "source": [
    "TODO: the entropy function can also calculate the Kullback-Leibler divergence if given 2 input vectors. Check what is it."
   ]
  }
 ],
 "metadata": {
  "kernelspec": {
   "display_name": "Python 3",
   "language": "python",
   "name": "python3"
  },
  "language_info": {
   "codemirror_mode": {
    "name": "ipython",
    "version": 3
   },
   "file_extension": ".py",
   "mimetype": "text/x-python",
   "name": "python",
   "nbconvert_exporter": "python",
   "pygments_lexer": "ipython3",
   "version": "3.9.2"
  }
 },
 "nbformat": 4,
 "nbformat_minor": 5
}
