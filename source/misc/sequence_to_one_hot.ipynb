{
 "cells": [
  {
   "cell_type": "markdown",
   "id": "strategic-weather",
   "metadata": {},
   "source": [
    "# Sequence to one-hot vectors\n",
    "This notebook converts all the fasta sequences into the input file into one-hot vectors."
   ]
  },
  {
   "cell_type": "code",
   "execution_count": 61,
   "id": "specified-stupid",
   "metadata": {
    "tags": []
   },
   "outputs": [],
   "source": [
    "import numpy as np\n",
    "import pandas as pd\n",
    "from Bio import SeqIO\n",
    "\n",
    "sequence_path = '../processing/input_sequences/'\n",
    "out_path = '../processing/sequences_one_hot/'\n",
    "input_list_file = '../processing/input_list.txt'\n",
    "\n",
    "def seq_to_one_hot(sequence):\n",
    "    # the aa order is the same used in psiblast pssm\n",
    "    aa_tuple = tuple('ARNDCQEGHILKMFPSTWYV')\n",
    "    growing_arr = []\n",
    "    for char in sequence:\n",
    "        curr_row = [1 if char == aa else 0 for _,aa in enumerate(aa_tuple)]\n",
    "        growing_arr.append(curr_row)\n",
    "    one_hot_vec = np.array(growing_arr)\n",
    "    assert one_hot_vec.sum(axis=1).all() == 1\n",
    "    assert one_hot_vec.all() in (0,1)\n",
    "    assert one_hot_vec.sum(axis=1).sum() == len(sequence)\n",
    "    return one_hot_vec\n",
    "\n",
    "def fasta_to_seq(fasta_filein):\n",
    "    for i, record in enumerate(SeqIO.parse(fasta_filein, \"fasta\")):\n",
    "        assert i == 0\n",
    "        sequence = record.seq.upper()\n",
    "    return sequence\n",
    "\n",
    "\n",
    "with open(input_list_file) as handle:\n",
    "    for line in handle:\n",
    "        input_name = line.rstrip()\n",
    "        sequence = fasta_to_seq(sequence_path + input_name + '.fasta')\n",
    "        one_hot_vec = seq_to_one_hot(sequence)\n",
    "        np.save(out_path + input_name + '.sequence_one_hot.npy', one_hot_vec)"
   ]
  }
 ],
 "metadata": {
  "kernelspec": {
   "display_name": "Python 3",
   "language": "python",
   "name": "python3"
  },
  "language_info": {
   "codemirror_mode": {
    "name": "ipython",
    "version": 3
   },
   "file_extension": ".py",
   "mimetype": "text/x-python",
   "name": "python",
   "nbconvert_exporter": "python",
   "pygments_lexer": "ipython3",
   "version": "3.8.7"
  }
 },
 "nbformat": 4,
 "nbformat_minor": 5
}
