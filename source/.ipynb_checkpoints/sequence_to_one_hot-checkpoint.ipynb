{
 "cells": [
  {
   "cell_type": "markdown",
   "id": "suitable-squad",
   "metadata": {},
   "source": [
    "# Sequence to one-hot vectors\n",
    "This notebook converts a fasta sequence into a 1 hot vector."
   ]
  },
  {
   "cell_type": "code",
   "execution_count": 2,
   "id": "operating-adoption",
   "metadata": {},
   "outputs": [],
   "source": [
    "import numpy as np\n",
    "import pandas as pd\n",
    "from sklearn import preprocessing\n",
    "\n",
    "sequence_path = '../processing/input_sequences/'\n",
    "out_path = '../processing/sequences_one_hot/'\n",
    "input_list_file = '../processing/input_list.txt'"
   ]
  },
  {
   "cell_type": "code",
   "execution_count": null,
   "id": "stupid-heath",
   "metadata": {},
   "outputs": [],
   "source": [
    "def seq_to_one_hot(sequence):\n",
    "    # the aa order is the same used in psiblast pssm\n",
    "    aa_list = ('A', 'R', 'N', 'D', 'C', 'Q', 'E', 'G', 'H', 'I', 'L', 'K', 'M', 'F', 'P', 'S', 'T', 'W', 'Y', 'V')\n",
    "    enc = preprocessing.OneHotEncoder(categories = aa_list)\n",
    "    one_hot_vec = enc.transform(sequence.upper())\n",
    "    return one_hot_vec\n",
    "\n",
    "def fasta_to_seq(fasta_filein):\n",
    "    with open(fasta_filein) as handle:\n",
    "        for i,line in enumerate(handle):\n",
    "            if line[0] != \n",
    "            '>' and i == 0\n",
    "\n",
    "with open(input_list_file) as handle:\n",
    "    for line in handle:\n",
    "        input_name = line.rstrip()\n",
    "        sequence = aaaa\n",
    "        one_hot_vec = seq_to_one_hot(sequence)\n",
    "        np.save(out_path + input_name + '.sequence_one_hot.npy', one_hot_vec)"
   ]
  },
  {
   "cell_type": "code",
   "execution_count": null,
   "id": "color-spare",
   "metadata": {},
   "outputs": [],
   "source": []
  }
 ],
 "metadata": {
  "kernelspec": {
   "display_name": "Python 3",
   "language": "python",
   "name": "python3"
  },
  "language_info": {
   "codemirror_mode": {
    "name": "ipython",
    "version": 3
   },
   "file_extension": ".py",
   "mimetype": "text/x-python",
   "name": "python",
   "nbconvert_exporter": "python",
   "pygments_lexer": "ipython3",
   "version": "3.9.2"
  }
 },
 "nbformat": 4,
 "nbformat_minor": 5
}
