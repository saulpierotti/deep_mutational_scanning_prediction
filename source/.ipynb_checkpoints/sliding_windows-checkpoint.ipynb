{
 "cells": [
  {
   "cell_type": "markdown",
   "id": "brilliant-bradley",
   "metadata": {},
   "source": [
    "# Sliding windows\n",
    "This notebook extracts a sliding window from the various features for each input mutation."
   ]
  },
  {
   "cell_type": "code",
   "execution_count": 7,
   "id": "sacred-county",
   "metadata": {},
   "outputs": [],
   "source": [
    "import pandas as pd\n",
    "import numpy as np\n",
    "\n",
    "dataset_vec = np.load('../processing/training_set/dataset_vec.npy')\n",
    "position_vec = np.load('../processing/training_set/position_vec.npy')\n",
    "input_list_file = '../processing/input_list.txt'"
   ]
  },
  {
   "cell_type": "markdown",
   "id": "wooden-lindsay",
   "metadata": {},
   "source": [
    "Execute this block to use the swissprot-derived profiles"
   ]
  },
  {
   "cell_type": "code",
   "execution_count": 58,
   "id": "temporal-hamburg",
   "metadata": {},
   "outputs": [],
   "source": [
    "# a small pseudocount is needed for this db when calculating shannon since some rows of the profiles are 0\n",
    "in_profiles_path = '../processing/psiblast_processing/swissprot_db/profiles/'\n",
    "in_shannon_path = '../processing/profiles_processing/swissprot_db/shannon_10e-10_pseudocount/'\n",
    "in_pssm_path = '../processing/psiblast_processing/swissprot_db/pssm_array/'\n",
    "out_path = '../processing/training_set/swissprot_db/'\n",
    "out_shannon_name = 'shannon_10e-10_pseudocount_sliding_windows.npz'\n",
    "out_pssm_name = 'pssm_sliding_windows.npz'"
   ]
  },
  {
   "cell_type": "markdown",
   "id": "urban-canberra",
   "metadata": {},
   "source": [
    "Execute this block to use the nr-derived profiles"
   ]
  },
  {
   "cell_type": "code",
   "execution_count": 2,
   "id": "controlled-maria",
   "metadata": {},
   "outputs": [],
   "source": [
    "in_profiles_path = '../processing/psiblast_processing/nr_db/profiles/'\n",
    "in_shannon_path = '../processing/profiles_processing/nr_db/shannon_10e-10_pseudocount/'\n",
    "in_pssm_path = '../processing/psiblast_processing/nr_db/pssm_array/'\n",
    "out_path = '../processing/training_set/nr_db/'\n",
    "out_shannon_name = 'shannon_10e-10_pseudocount_sliding_windows.npz'\n",
    "out_pssm_name = 'pssm_sliding_windows.npz''"
   ]
  },
  {
   "cell_type": "markdown",
   "id": "amazing-element",
   "metadata": {},
   "source": [
    "I first create a series of dictionaries for the features that I want to process."
   ]
  },
  {
   "cell_type": "code",
   "execution_count": 3,
   "id": "perceived-composer",
   "metadata": {},
   "outputs": [],
   "source": [
    "with open(input_list_file) as handle:\n",
    "    dataset_list = [line.rstrip() for line in handle]\n",
    "    \n",
    "profile_vec_dict = {dataset:np.load(in_profiles_path + dataset + '.profile.npy') for dataset in dataset_list}\n",
    "shannon_vec_dict = {dataset:np.load(in_shannon_path + dataset + '.shannon.npy') for dataset in dataset_list}"
   ]
  },
  {
   "cell_type": "code",
   "execution_count": 4,
   "id": "charitable-solution",
   "metadata": {},
   "outputs": [],
   "source": [
    "def get_sliding_window(feature_vec_dict, window_size = 1, position_vec=position_vec, dataset_vec=dataset_vec):\n",
    "    assert window_size % 2 == 1\n",
    "    sliding_windows_list = []\n",
    "    central_position = ((window_size - 1) // 2)\n",
    "    for position, dataset in zip(position_vec, dataset_vec):\n",
    "        feature_vec = feature_vec_dict[dataset[0]]\n",
    "        lower_bound = position[0] - ((window_size - 1) // 2)\n",
    "        upper_bound = position[0] + ((window_size - 1) // 2) + 1\n",
    "        if lower_bound >= 0 and upper_bound <= len(feature_vec):\n",
    "            sliding_window = feature_vec[lower_bound:upper_bound]\n",
    "        elif not lower_bound >= 0 and upper_bound <= len(feature_vec):\n",
    "            sliding_window = np.pad(feature_vec[:upper_bound], ((abs(lower_bound),0), (0,0)), 'constant', constant_values=0)\n",
    "        elif lower_bound >= 0 and not upper_bound <= len(feature_vec):\n",
    "            sliding_window = np.pad(feature_vec[lower_bound:], ((0,upper_bound-len(feature_vec)), (0,0)), 'constant', constant_values=0)\n",
    "        elif not lower_bound >= 0 and not upper_bound <= len(feature_vec):\n",
    "            sliding_window = np.pad(feature_vec, ((abs(lower_bound),upper_bound-len(feature_vec)), (0,0)), 'constant', constant_values=0)\n",
    "        else:\n",
    "            raise AssertionError\n",
    "        assert sliding_window.shape == (window_size, feature_vec.shape[1])\n",
    "        assert np.array_equal(sliding_window[central_position], feature_vec[position[0]])\n",
    "        sliding_windows_list.append(sliding_window)\n",
    "    sliding_windows_vec = np.array(sliding_windows_list)\n",
    "    return sliding_windows_vec"
   ]
  },
  {
   "cell_type": "code",
   "execution_count": 5,
   "id": "modified-referral",
   "metadata": {},
   "outputs": [],
   "source": [
    "profile_sliding_windows = get_sliding_window(profile_vec_dict, 17)\n",
    "np.savez_compressed(out_path + 'profiles_sliding_windows.npz', profile_sliding_windows)"
   ]
  },
  {
   "cell_type": "code",
   "execution_count": 6,
   "id": "medieval-falls",
   "metadata": {},
   "outputs": [],
   "source": [
    "shannon_sliding_windows = get_sliding_window(shannon_vec_dict, 17)\n",
    "np.savez_compressed(out_path + shannon_name, shannon_sliding_windows)"
   ]
  },
  {
   "cell_type": "code",
   "execution_count": null,
   "id": "formal-universal",
   "metadata": {},
   "outputs": [],
   "source": []
  }
 ],
 "metadata": {
  "kernelspec": {
   "display_name": "Python 3",
   "language": "python",
   "name": "python3"
  },
  "language_info": {
   "codemirror_mode": {
    "name": "ipython",
    "version": 3
   },
   "file_extension": ".py",
   "mimetype": "text/x-python",
   "name": "python",
   "nbconvert_exporter": "python",
   "pygments_lexer": "ipython3",
   "version": "3.9.2"
  }
 },
 "nbformat": 4,
 "nbformat_minor": 5
}
