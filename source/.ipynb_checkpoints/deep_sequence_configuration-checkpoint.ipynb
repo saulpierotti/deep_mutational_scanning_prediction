{
 "cells": [
  {
   "cell_type": "markdown",
   "id": "mighty-compound",
   "metadata": {},
   "source": [
    "# DeepSequence configuration\n",
    "\n",
    "Here I document how I installed DeepSequence and show some test code\n",
    "\n",
    "## Installation\n",
    "\n",
    "It is recommended to generate the MSA to give in input with EV Coupling, so I first install EV Coupling (see the relevant notebook).\n",
    "DeepSequence itself instead requires python 2.7 and theano. Using conda makes it easier to use GPU runtime. On GPU some tasks are way faster, so my config seems to work.\n",
    "\n",
    "```\n",
    "git clone https://github.com/debbiemarkslab/DeepSequence.git\n",
    "conda create -n DeepSequence python=2.7\n",
    "conda install numpy scipy mkl pytest matplotlib pandas jupyterlab\n",
    "conda install theano pygpup cudatoolkit\n",
    "```\n",
    "\n",
    "In order to use a GPU runtime in theano, I configure the file `.theanorc`"
   ]
  },
  {
   "cell_type": "code",
   "execution_count": 1,
   "id": "liquid-triangle",
   "metadata": {},
   "outputs": [
    {
     "name": "stdout",
     "output_type": "stream",
     "text": [
      "[global]\n",
      "\n",
      "device = cuda\n",
      "optimizer = unsafe\n"
     ]
    }
   ],
   "source": [
    "!cat /home/saul/.theanorc"
   ]
  },
  {
   "cell_type": "markdown",
   "id": "documented-mexico",
   "metadata": {},
   "source": [
    "I can then test that the runtime is actually GPU"
   ]
  },
  {
   "cell_type": "code",
   "execution_count": 2,
   "id": "flying-borough",
   "metadata": {},
   "outputs": [
    {
     "name": "stderr",
     "output_type": "stream",
     "text": [
      "/home/saul/anaconda3/envs/DeepSequence/lib/python2.7/site-packages/skcuda/cublas.py:284: UserWarning: creating CUBLAS context to get version number\n",
      "  warnings.warn('creating CUBLAS context to get version number')\n",
      "Can not use cuDNN on context None: cannot compile with cuDNN. We got this error:\n",
      "/tmp/try_flags_0vDPzS.c:4:10: fatal error: cudnn.h: No such file or directory\n",
      "    4 | #include <cudnn.h>\n",
      "      |          ^~~~~~~~~\n",
      "compilation terminated.\n",
      "\n",
      "Mapped name None to device cuda: GeForce MX130 (0000:01:00.0)\n"
     ]
    },
    {
     "name": "stdout",
     "output_type": "stream",
     "text": [
      "[GpuElemwise{exp,no_inplace}(<GpuArrayType<None>(float64, vector)>), HostFromGpu(gpuarray)(GpuElemwise{exp,no_inplace}.0)]\n",
      "Looping 1000 times took 1.438071 seconds\n",
      "Result is [1.23178032 1.61879341 1.52278065 ... 2.20771815 2.29967753 1.62323285]\n",
      "Used the gpu\n"
     ]
    }
   ],
   "source": [
    "from theano import function, config, shared, tensor\n",
    "import numpy\n",
    "import time\n",
    "\n",
    "vlen = 10 * 30 * 768  # 10 x #cores x # threads per core\n",
    "iters = 1000\n",
    "\n",
    "rng = numpy.random.RandomState(22)\n",
    "x = shared(numpy.asarray(rng.rand(vlen), config.floatX))\n",
    "f = function([], tensor.exp(x))\n",
    "print(f.maker.fgraph.toposort())\n",
    "t0 = time.time()\n",
    "for i in range(iters):\n",
    "    r = f()\n",
    "t1 = time.time()\n",
    "print(\"Looping %d times took %f seconds\" % (iters, t1 - t0))\n",
    "print(\"Result is %s\" % (r,))\n",
    "if numpy.any([isinstance(x.op, tensor.Elemwise) and\n",
    "              ('Gpu' not in type(x.op).__name__)\n",
    "              for x in f.maker.fgraph.toposort()]):\n",
    "    print('Used the cpu')\n",
    "else:\n",
    "    print('Used the gpu')"
   ]
  },
  {
   "cell_type": "markdown",
   "id": "junior-judge",
   "metadata": {},
   "source": [
    "## Usage\n",
    "\n",
    "Deepsequence does not actually have an interface but it is a collection of python scripts that need to be bundled together in a pipeline.\n",
    "The actual documentation is just 2 notebooks:\n",
    "\n",
    "https://nbviewer.jupyter.org/github/debbiemarkslab/DeepSequence/blob/master/examples/Mutation%20Effect%20Prediction.ipynb\n",
    "\n",
    "https://nbviewer.jupyter.org/github/debbiemarkslab/DeepSequence/blob/master/examples/Explore%20model%20outputs.ipynb\n",
    "\n",
    "## Test run\n",
    "I download the sample alignments and models using the following scripts\n",
    "\n",
    "```\n",
    "cd /home/saul/deepsequence/examples\n",
    "./download_alignments.sh\n",
    "./download_pretrained.sh\n",
    "```\n",
    "\n",
    "### Exploring model outputs"
   ]
  },
  {
   "cell_type": "code",
   "execution_count": 3,
   "id": "taken-fight",
   "metadata": {},
   "outputs": [],
   "source": [
    "import theano\n",
    "import numpy as np\n",
    "import sys\n",
    "\n",
    "%matplotlib inline\n",
    "import matplotlib.pyplot as plt\n",
    "\n",
    "deepsequence_path = '/home/saul/deepsequence/DeepSequence'\n",
    "\n",
    "if deepsequence_path not in sys.path:\n",
    "    sys.path.insert(0, deepsequence_path)\n",
    "\n",
    "import model\n",
    "import helper\n",
    "import train\n",
    "\n",
    "# now I need to change the path hardcoded in helper.py since it is set wrong\n",
    "# I just remove the non-existent folder dataset from it"
   ]
  },
  {
   "cell_type": "code",
   "execution_count": 4,
   "id": "unlike-portsmouth",
   "metadata": {},
   "outputs": [
    {
     "name": "stdout",
     "output_type": "stream",
     "text": [
      "Encoding sequences\n",
      "Neff = 8355.0\n",
      "Data Shape = (8355, 253, 20)\n",
      "Model built\n"
     ]
    }
   ],
   "source": [
    "data_params = {\"dataset\":\"BLAT_ECOLX\"}\n",
    "\n",
    "data_helper = helper.DataHelper(\n",
    "                dataset=data_params[\"dataset\"],\n",
    "                working_dir= '/home/saul/deepsequence/examples/alignments/',\n",
    "                calc_weights=False\n",
    "                )\n",
    "\n",
    "model_params = {\n",
    "        \"batch_size\"        :   100,\n",
    "        \"encode_dim_zero\"   :   1500,\n",
    "        \"encode_dim_one\"    :   1500,\n",
    "        \"decode_dim_zero\"   :   100,\n",
    "        \"decode_dim_one\"    :   500,\n",
    "        \"n_patterns\"        :   4,\n",
    "        \"n_latent\"          :   30,\n",
    "        \"logit_p\"           :   0.001,\n",
    "        \"sparsity\"          :   \"logit\",\n",
    "        \"encode_nonlin\"     :   \"relu\",\n",
    "        \"decode_nonlin\"     :   \"relu\",\n",
    "        \"final_decode_nonlin\":  \"sigmoid\",\n",
    "        \"output_bias\"       :   True,\n",
    "        \"final_pwm_scale\"   :   True,\n",
    "        \"conv_pat\"          :   True,\n",
    "        \"d_c_size\"          :   40\n",
    "        }\n",
    "\n",
    "vae_model   = model.VariationalAutoencoder(data_helper,\n",
    "    batch_size              =   model_params[\"batch_size\"],\n",
    "    encoder_architecture    =   [model_params[\"encode_dim_zero\"],\n",
    "                                model_params[\"encode_dim_one\"]],\n",
    "    decoder_architecture    =   [model_params[\"decode_dim_zero\"],\n",
    "                                model_params[\"decode_dim_one\"]],\n",
    "    n_latent                =   model_params[\"n_latent\"],\n",
    "    n_patterns              =   model_params[\"n_patterns\"],\n",
    "    convolve_patterns       =   model_params[\"conv_pat\"],\n",
    "    conv_decoder_size       =   model_params[\"d_c_size\"],\n",
    "    logit_p                 =   model_params[\"logit_p\"],\n",
    "    sparsity                =   model_params[\"sparsity\"],\n",
    "    encode_nonlinearity_type       =   model_params[\"encode_nonlin\"],\n",
    "    decode_nonlinearity_type       =   model_params[\"decode_nonlin\"],\n",
    "    final_decode_nonlinearity      =   model_params[\"final_decode_nonlin\"],\n",
    "    output_bias             =   model_params[\"output_bias\"],\n",
    "    final_pwm_scale         =   model_params[\"final_pwm_scale\"],\n",
    "    working_dir             =   \"/home/saul/deepsequence/examples/\")\n",
    "\n",
    "print (\"Model built\")"
   ]
  },
  {
   "cell_type": "code",
   "execution_count": 5,
   "id": "geographic-communications",
   "metadata": {},
   "outputs": [
    {
     "name": "stdout",
     "output_type": "stream",
     "text": [
      "Parameters loaded\n"
     ]
    }
   ],
   "source": [
    "file_prefix = \"BLAT_ECOLX\"\n",
    "vae_model.load_parameters(file_prefix=file_prefix)\n",
    "print (\"Parameters loaded\")"
   ]
  },
  {
   "cell_type": "code",
   "execution_count": 4,
   "id": "foster-world",
   "metadata": {},
   "outputs": [
    {
     "name": "stdout",
     "output_type": "stream",
     "text": [
      ">BLAT_ECOLX/24-286\n",
      "24-286\n",
      "hpetlVKVKDAEDQLGARVGYIELDLNSGKILeSFRPEERFPMMSTFKVLLCGAVLSRVDAGQEQLGRRIHYSQNDLVEYSPVTEKHLTDGMTVRELCSAAITMSDNTAANLLLTTIGGPKELTAFLHNMGDHVTRLDRWEPELNEAIPNDERDTTMPAAMATTLRKLLTGELLTLASRQQLIDWMEADKVAGPLLRSALPAGWFIADKSGAGErGSRGIIAALGPDGKPSRIVVIYTTGSQATMDERNRQIAEIGASLIkhw\n"
     ]
    }
   ],
   "source": [
    "print (data_helper.focus_seq_name)\n",
    "print (str(data_helper.focus_start_loc)+\"-\"+str(data_helper.focus_stop_loc))\n",
    "print (data_helper.focus_seq)"
   ]
  },
  {
   "cell_type": "code",
   "execution_count": 5,
   "id": "entitled-broadcast",
   "metadata": {},
   "outputs": [
    {
     "name": "stdout",
     "output_type": "stream",
     "text": [
      "VKVKDAEDQLGARVGYIELDLNSGKILSFRPEERFPMMSTFKVLLCGAVLSRVDAGQEQLGRRIHYSQNDLVEYSPVTEKHLTDGMTVRELCSAAITMSDNTAANLLLTTIGGPKELTAFLHNMGDHVTRLDRWEPELNEAIPNDERDTTMPAAMATTLRKLLTGELLTLASRQQLIDWMEADKVAGPLLRSALPAGWFIADKSGAGEGSRGIIAALGPDGKPSRIVVIYTTGSQATMDERNRQIAEIGASLI\n"
     ]
    }
   ],
   "source": [
    "print (\"\".join(data_helper.focus_seq_trimmed))"
   ]
  },
  {
   "cell_type": "code",
   "execution_count": 6,
   "id": "endangered-google",
   "metadata": {},
   "outputs": [
    {
     "name": "stdout",
     "output_type": "stream",
     "text": [
      "mu:\n",
      "[-2.93129622e-02  2.80484591e-02  4.74045508e-02  2.08589889e-02\n",
      " -1.58986675e-02 -1.26072732e+00 -1.66292705e-02  1.40488074e+00\n",
      "  1.67025877e-02 -8.53566889e-03  2.18774280e-02  2.32125783e+00\n",
      "  2.55409795e-02 -1.15651891e-02 -3.02552657e-02  1.24139726e-02\n",
      " -4.12962164e-02 -8.41912007e-01 -5.99993306e-03  1.61336532e-03\n",
      "  6.03782405e-01  3.46253082e-02  2.27598501e-02 -2.05355599e-02\n",
      "  3.94717697e-03  1.35123502e+00  8.65776037e-03 -7.57649777e-03\n",
      "  3.81364257e-02 -2.08573404e-02]\n",
      "\n",
      "log sigma:\n",
      "[-4.22987289e-04 -1.84314600e-02 -4.19494449e-02 -3.17123838e-02\n",
      " -1.67881093e-02 -2.28357830e+00 -5.77861108e-02 -9.92522460e-01\n",
      " -3.17816964e-02 -1.74817094e-02 -4.95498244e-02 -1.99601526e+00\n",
      " -2.00790022e-02  2.04198661e-02 -1.36289102e-02 -6.93278173e-03\n",
      " -2.53706808e-02 -1.90622283e+00 -2.70597848e-02 -1.67551476e-02\n",
      " -2.16649542e+00  1.02254690e-02  8.96915176e-03 -1.85787921e-02\n",
      "  2.56248426e-02 -2.42973459e+00 -3.70118837e-02  1.25962615e-02\n",
      "  2.43832070e-02 -6.73871211e-03]\n"
     ]
    }
   ],
   "source": [
    "# this is the distribution of the hidden variable z, with its mean and SD\n",
    "focus_seq_one_hot = np.expand_dims(data_helper.one_hot_3D(data_helper.focus_seq_trimmed),axis=0)\n",
    "mu_blat, log_sigma_blat = vae_model.recognize(focus_seq_one_hot)\n",
    "print (\"mu:\")\n",
    "print (mu_blat[0])\n",
    "print (\"\\nlog sigma:\")\n",
    "print (log_sigma_blat[0])"
   ]
  },
  {
   "cell_type": "code",
   "execution_count": 7,
   "id": "parliamentary-token",
   "metadata": {},
   "outputs": [
    {
     "name": "stdout",
     "output_type": "stream",
     "text": [
      "z:\n",
      "[ 1.226298   -0.50005774 -0.05264941  0.66986938 -0.71224884 -1.15921493\n",
      "  0.05177535  1.1583736   0.92446647 -0.14730169  0.78172059  2.35628846\n",
      "  1.32076451  1.1621947  -0.12593087 -0.49765921  0.55820479 -0.84410041\n",
      " -1.94164654  1.19722414  0.51352968  0.23148123  0.56776408 -0.36881278\n",
      " -0.590448    1.50986844  0.68191917 -1.4255378  -0.08560662  1.08017904]\n"
     ]
    }
   ],
   "source": [
    "# this is the hidden variable sampled from its distribution\n",
    "z_blat = vae_model.encode(focus_seq_one_hot)\n",
    "print (\"z:\")\n",
    "print (z_blat[0])"
   ]
  },
  {
   "cell_type": "code",
   "execution_count": 8,
   "id": "cardiac-crime",
   "metadata": {},
   "outputs": [
    {
     "data": {
      "image/png": "[encoded data removed]",
      "text/plain": [
       "<Figure size 2520x720 with 1 Axes>"
      ]
     },
     "metadata": {
      "needs_background": "light"
     },
     "output_type": "display_data"
    }
   ],
   "source": [
    "# this is the sequences that are reconstructed from the sampled hidden variable z\n",
    "seq_reconstruct = vae_model.decode(z_blat)\n",
    "plt.figure(figsize=(35,10))\n",
    "plt.imshow(seq_reconstruct[0].T,cmap=plt.get_cmap(\"Blues\"))\n",
    "ax = plt.gca()\n",
    "ax.set_yticks(np.arange(len(data_helper.alphabet)))\n",
    "ax.set_yticklabels(list(data_helper.alphabet))\n",
    "plt.show()"
   ]
  },
  {
   "cell_type": "markdown",
   "id": "minor-blond",
   "metadata": {},
   "source": [
    "### Mutation effect prediction"
   ]
  },
  {
   "cell_type": "code",
   "execution_count": 3,
   "id": "pacific-score",
   "metadata": {},
   "outputs": [],
   "source": [
    "import theano\n",
    "import numpy as np\n",
    "import sys\n",
    "import pandas as pd\n",
    "import scipy\n",
    "from scipy.stats import spearmanr\n",
    "\n",
    "%matplotlib inline\n",
    "import matplotlib.pyplot as plt\n",
    "\n",
    "\n",
    "deepsequence_path = '/home/saul/deepsequence/DeepSequence'\n",
    "\n",
    "if deepsequence_path not in sys.path:\n",
    "    sys.path.insert(0, deepsequence_path)\n",
    "\n",
    "import model\n",
    "import helper\n",
    "import train\n",
    "\n",
    "# now I need to change the path hardcoded in helper.py since it is set wrong\n",
    "# I just remove the non-existent folder dataset from it"
   ]
  },
  {
   "cell_type": "code",
   "execution_count": 4,
   "id": "traditional-proof",
   "metadata": {},
   "outputs": [
    {
     "name": "stdout",
     "output_type": "stream",
     "text": [
      "Encoding sequences\n",
      "Neff = 151528.0\n",
      "Data Shape = (151528, 82, 20)\n",
      "Model built\n"
     ]
    }
   ],
   "source": [
    "data_params = {\"alignment_file\":\"/home/saul/deepsequence/examples/alignments/PABP_YEAST_hmmerbit_plmc_n5_m30_f50_t0.2_r115-210_id100_b48.a2m\"}\n",
    "\n",
    "pabp_data_helper = helper.DataHelper(\n",
    "                alignment_file=data_params[\"alignment_file\"],\n",
    "                working_dir=\".\",\n",
    "                calc_weights=False\n",
    "                )\n",
    "\n",
    "model_params = {\n",
    "        \"batch_size\"        :   100,\n",
    "        \"encode_dim_zero\"   :   1500,\n",
    "        \"encode_dim_one\"    :   1500,\n",
    "        \"decode_dim_zero\"   :   100,\n",
    "        \"decode_dim_one\"    :   500,\n",
    "        \"n_patterns\"        :   4,\n",
    "        \"n_latent\"          :   30,\n",
    "        \"logit_p\"           :   0.001,\n",
    "        \"sparsity\"          :   \"logit\",\n",
    "        \"encode_nonlin\"     :   \"relu\",\n",
    "        \"decode_nonlin\"     :   \"relu\",\n",
    "        \"final_decode_nonlin\":  \"sigmoid\",\n",
    "        \"output_bias\"       :   True,\n",
    "        \"final_pwm_scale\"   :   True,\n",
    "        \"conv_pat\"          :   True,\n",
    "        \"d_c_size\"          :   40\n",
    "        }\n",
    "\n",
    "pabp_vae_model   = model.VariationalAutoencoder(pabp_data_helper,\n",
    "    batch_size              =   model_params[\"batch_size\"],\n",
    "    encoder_architecture    =   [model_params[\"encode_dim_zero\"],\n",
    "                                model_params[\"encode_dim_one\"]],\n",
    "    decoder_architecture    =   [model_params[\"decode_dim_zero\"],\n",
    "                                model_params[\"decode_dim_one\"]],\n",
    "    n_latent                =   model_params[\"n_latent\"],\n",
    "    n_patterns              =   model_params[\"n_patterns\"],\n",
    "    convolve_patterns       =   model_params[\"conv_pat\"],\n",
    "    conv_decoder_size       =   model_params[\"d_c_size\"],\n",
    "    logit_p                 =   model_params[\"logit_p\"],\n",
    "    sparsity                =   model_params[\"sparsity\"],\n",
    "    encode_nonlinearity_type       =   model_params[\"encode_nonlin\"],\n",
    "    decode_nonlinearity_type       =   model_params[\"decode_nonlin\"],\n",
    "    final_decode_nonlinearity      =   model_params[\"final_decode_nonlin\"],\n",
    "    output_bias             =   model_params[\"output_bias\"],\n",
    "    final_pwm_scale         =   model_params[\"final_pwm_scale\"],\n",
    "    working_dir             =   \"/home/saul/deepsequence/examples/\")\n",
    "\n",
    "print (\"Model built\")"
   ]
  },
  {
   "cell_type": "code",
   "execution_count": 5,
   "id": "raised-physiology",
   "metadata": {},
   "outputs": [
    {
     "name": "stdout",
     "output_type": "stream",
     "text": [
      "Parameters loaded\n"
     ]
    }
   ],
   "source": [
    "file_prefix = \"PABP_YEAST\"\n",
    "pabp_vae_model.load_parameters(file_prefix=file_prefix)\n",
    "print (\"Parameters loaded\")"
   ]
  },
  {
   "cell_type": "code",
   "execution_count": 6,
   "id": "optional-halloween",
   "metadata": {},
   "outputs": [
    {
     "name": "stdout",
     "output_type": "stream",
     "text": [
      "-2.024040105\n"
     ]
    }
   ],
   "source": [
    "print (pabp_data_helper.delta_elbo(pabp_vae_model,[(126,\"G\",\"A\")], N_pred_iterations=500))"
   ]
  },
  {
   "cell_type": "code",
   "execution_count": 12,
   "id": "damaged-scout",
   "metadata": {},
   "outputs": [
    {
     "name": "stdout",
     "output_type": "stream",
     "text": [
      "-11.3079817898\n"
     ]
    }
   ],
   "source": [
    "print (pabp_data_helper.delta_elbo(pabp_vae_model,[(126,\"G\",\"A\"), (137,\"I\",\"P\")], N_pred_iterations=500))"
   ]
  },
  {
   "cell_type": "code",
   "execution_count": 7,
   "id": "focal-postage",
   "metadata": {},
   "outputs": [
    {
     "name": "stdout",
     "output_type": "stream",
     "text": [
      "-16.058655309\n"
     ]
    }
   ],
   "source": [
    "print (pabp_data_helper.delta_elbo(pabp_vae_model,[(126,\"G\",\"A\"), (137,\"I\",\"P\"), (155,\"S\",\"A\")], N_pred_iterations=500))"
   ]
  },
  {
   "cell_type": "code",
   "execution_count": 10,
   "id": "certain-bracelet",
   "metadata": {},
   "outputs": [
    {
     "name": "stdout",
     "output_type": "stream",
     "text": [
      "('K123A', 0.7103922472893913)\n"
     ]
    }
   ],
   "source": [
    "pabp_full_matr_mutant_name_list, pabp_full_matr_delta_elbos \\\n",
    "    = pabp_data_helper.single_mutant_matrix(pabp_vae_model, N_pred_iterations=500)\n",
    "print (pabp_full_matr_mutant_name_list[0], pabp_full_matr_delta_elbos[0])"
   ]
  },
  {
   "cell_type": "code",
   "execution_count": null,
   "id": "prescription-computer",
   "metadata": {},
   "outputs": [],
   "source": [
    "pabp_custom_matr_mutant_name_list, pabp_custom_matr_delta_elbos \\\n",
    "    = pabp_data_helper.custom_mutant_matrix(\"mutations/PABP_YEAST_Fields2013-singles.csv\", \\\n",
    "                                            pabp_vae_model, N_pred_iterations=500)\n",
    "    \n",
    "print (pabp_custom_matr_mutant_name_list[12], pabp_custom_matr_delta_elbos[12])"
   ]
  },
  {
   "cell_type": "code",
   "execution_count": null,
   "id": "black-rwanda",
   "metadata": {},
   "outputs": [],
   "source": [
    "def generate_spearmanr(mutant_name_list, delta_elbo_list, mutation_filename, phenotype_name):\n",
    "    \n",
    "    measurement_df = pd.read_csv(mutation_filename, sep=',')\n",
    "\n",
    "    mutant_list = measurement_df.mutant.tolist()\n",
    "    expr_values_ref_list = measurement_df[phenotype_name].tolist()\n",
    "\n",
    "    mutant_name_to_pred = {mutant_name_list[i]:delta_elbo_list[i] for i in range(len(delta_elbo_list))}\n",
    "    \n",
    "    # If there are measurements \n",
    "    wt_list = []\n",
    "    preds_for_spearmanr = []\n",
    "    measurements_for_spearmanr = []\n",
    "    \n",
    "    for i,mutant_name in enumerate(mutant_list):\n",
    "        expr_val = expr_values_ref_list[i]\n",
    "        \n",
    "        # Make sure we have made a prediction for that mutant\n",
    "        if mutant_name in mutant_name_to_pred:\n",
    "            multi_mut_name_list = mutant_name.split(':')\n",
    "        \n",
    "            # If there is no measurement for that mutant, pass over it\n",
    "            if np.isnan(expr_val):\n",
    "                pass\n",
    "\n",
    "            # If it was a codon change, add it to the wt vals to average\n",
    "            elif mutant_name[0] == mutant_name[-1] and len(multi_mut_name_list) == 1:\n",
    "                wt_list.append(expr_values_ref_list[i])\n",
    "\n",
    "            # If it is labeled as the wt sequence, add it to the average list\n",
    "            elif mutant_name == 'wt' or mutant_name == 'WT':\n",
    "                wt_list.append(expr_values_ref_list[i])\n",
    "\n",
    "            else:\n",
    "                measurements_for_spearmanr.append(expr_val)\n",
    "                preds_for_spearmanr.append(mutant_name_to_pred[mutant_name])\n",
    "\n",
    "    if wt_list != []:\n",
    "        measurements_for_spearmanr.append(np.mean(average_wt_list))\n",
    "        preds_for_spearmanr.append(0.0)\n",
    "\n",
    "    num_data = len(measurements_for_spearmanr)\n",
    "    spearman_r, spearman_pval = spearmanr(measurements_for_spearmanr, preds_for_spearmanr)\n",
    "    print (\"N: \"+str(num_data)+\", Spearmanr: \"+str(spearman_r)+\", p-val: \"+str(spearman_pval))\n",
    "\n",
    "generate_spearmanr(pabp_custom_matr_mutant_name_list, pabp_custom_matr_delta_elbos, \\\n",
    "                   \"mutations/PABP_YEAST_Fields2013-singles.csv\", \"log\")"
   ]
  }
 ],
 "metadata": {
  "kernelspec": {
   "display_name": "DeepSequence",
   "language": "python",
   "name": "deepsequence"
  },
  "language_info": {
   "codemirror_mode": {
    "name": "ipython",
    "version": 2
   },
   "file_extension": ".py",
   "mimetype": "text/x-python",
   "name": "python",
   "nbconvert_exporter": "python",
   "pygments_lexer": "ipython2",
   "version": "2.7.18"
  }
 },
 "nbformat": 4,
 "nbformat_minor": 5
}
