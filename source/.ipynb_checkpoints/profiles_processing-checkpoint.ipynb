{
 "cells": [
  {
   "cell_type": "markdown",
   "id": "british-document",
   "metadata": {},
   "source": [
    "# Profiles processing\n",
    "\n",
    "In this notebook I process the profiles in numpy arrays that I obtained from the psiblast PSSMs. My aim is to extract useful features for the project."
   ]
  },
  {
   "cell_type": "code",
   "execution_count": 1,
   "id": "thrown-england",
   "metadata": {},
   "outputs": [],
   "source": [
    "import numpy as np\n",
    "import pandas as pd\n",
    "from scipy import stats\n",
    "\n",
    "profile_path = '../processing/psiblast/swissprot_db/profiles/'\n",
    "out_path = '../processing/profiles_processing/swissprot/shannon/'\n",
    "input_list_file = '../processing/input_list.txt'"
   ]
  },
  {
   "cell_type": "markdown",
   "id": "chief-closing",
   "metadata": {},
   "source": [
    "I can use the Shannon's entropy as a measure of absolute conservation for a position. For each profile, I create a vector of Shannon entropies (one per position). The entropy function automagically normalizes the vector, so no hassle for adding pseudocounts."
   ]
  },
  {
   "cell_type": "code",
   "execution_count": 2,
   "id": "thousand-librarian",
   "metadata": {},
   "outputs": [],
   "source": [
    "def shannon_entropy(profile, pseudocount=0.001):\n",
    "    return stats.entropy(profile + pseudocount, axis=1)\n",
    "\n",
    "with open(input_list_file) as handle:\n",
    "    for line in handle:\n",
    "        input_name = line.rstrip()\n",
    "        profile = np.load(profile_path + input_name + '.profile.npy')\n",
    "        entropy_array = shannon_entropy(profile)\n",
    "        np.save(out_path + input_name + '.shannon.npy', entropy_array)"
   ]
  },
  {
   "cell_type": "markdown",
   "id": "tired-sessions",
   "metadata": {},
   "source": [
    "TODO: the entropy function can also calculate the Kullback-Leibler divergence if given 2 input vectors. Check what is it."
   ]
  }
 ],
 "metadata": {
  "kernelspec": {
   "display_name": "Python 3",
   "language": "python",
   "name": "python3"
  },
  "language_info": {
   "codemirror_mode": {
    "name": "ipython",
    "version": 3
   },
   "file_extension": ".py",
   "mimetype": "text/x-python",
   "name": "python",
   "nbconvert_exporter": "python",
   "pygments_lexer": "ipython3",
   "version": "3.9.2"
  }
 },
 "nbformat": 4,
 "nbformat_minor": 5
}
